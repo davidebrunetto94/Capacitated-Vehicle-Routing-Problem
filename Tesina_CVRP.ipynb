{
 "cells": [
  {
   "cell_type": "markdown",
   "metadata": {},
   "source": [
    "# Capacitated Vehicle Routing Problem\n",
    "<img src=\"https://www.researchgate.net/profile/Savvas_Pericleous/publication/319754352/figure/fig1/AS:631655517659162@1527609819407/The-Capacitated-Vehicle-Routing-Problem-CVRP.png\" width=\"400\" />\n",
    "\n",
    "## Routing problems\n",
    "\n",
    "I problemi di routing sono una classe di problemi della programmazione lineare che vogliono rispondere alla domanda \"Qual è l'insieme di percorsi ottimale da percorrere per un gruppo di veicoli al fine di effettuare delle consegne ad un insieme di clienti?\". Questo tipo di ragionamento è di fondamentale importanza per il controllo dell'approvvigionamento di beni e servizi in un sistema di distribuzione. Si stima che l'utilizzo di procedure di ottimizzazione permetta di ottenere un risparmio di costi compreso tra il 5% ed il 20%.\n",
    "In particolare, andremo a trattare la variante Capacitated Vehicle Routing Problem che si occupa di minimizzare i costi di distribuzione di un determinato bene, utilizzando un numero predeterminato di veicoli con la stessa capacità, in partenza da un singolo deposito centrale. Un problema di CVRP è, dunque, composto dai seguenti elementi:\n",
    "\n",
    "- $n$ è il numero dei clienti;\n",
    "- $K$ è il numero dei veicoli;\n",
    "- $N$ è l'insieme dei clienti, con $N=\\{1,2,...,n\\}$;\n",
    "- $V$ è il set dei vertici, composto da $V=\\{0\\}\\cup N$;\n",
    "- $A$ è il set degli archi che congiungono i vertici, senza archi rientranti $A=\\{(i,j)\\in V^2 : i\\neq j\\}$;\n",
    "- $c_{ij}$ è il costo di ogni arco $(i,j)\\in A$;\n",
    "- $Q$ è la capacità dei veicoli;\n",
    "- $d_i$ è la domanda di ogni cliente $i\\in N$.\n"
   ]
  },
  {
   "cell_type": "markdown",
   "metadata": {},
   "source": [
    "### Generazione dei dati\n",
    "Come primo approccio inizializziamo i dati utilizzando un numero arbitrario di clienti, stazioni e capacità dei veicoli. La domanda di ogni cliente viene generata casualmente in un range da 1 a 4."
   ]
  },
  {
   "cell_type": "code",
   "execution_count": 1,
   "metadata": {},
   "outputs": [],
   "source": [
    "import numpy as np"
   ]
  },
  {
   "cell_type": "code",
   "execution_count": 2,
   "metadata": {},
   "outputs": [],
   "source": [
    "random = np.random\n",
    "#random.seed(0)"
   ]
  },
  {
   "cell_type": "code",
   "execution_count": 3,
   "metadata": {},
   "outputs": [],
   "source": [
    "n = 5 #numero clienti\n",
    "K = 2 #numero veicoli\n",
    "Q = 20 #capacità veicoli\n",
    "N = [i for i in range(1, n+1)] #insieme di clienti\n",
    "V = [0] + N #insieme di tutti i vertici, compreso il deposito\n",
    "d = {i: random.randint(1,5) for i in N}#domanda"
   ]
  },
  {
   "cell_type": "markdown",
   "metadata": {},
   "source": [
    "### Visualizzazione dei dati\n",
    "Generiamo le coordinate x ed y in maniera casuale per ognuno dei vertici e le mostriamo in un grafico"
   ]
  },
  {
   "cell_type": "code",
   "execution_count": 4,
   "metadata": {},
   "outputs": [],
   "source": [
    "x_coord = random.rand(len(V)) * 200\n",
    "y_coord = random.rand(len(V)) * 100"
   ]
  },
  {
   "cell_type": "code",
   "execution_count": 5,
   "metadata": {},
   "outputs": [],
   "source": [
    "import matplotlib.pyplot as plot"
   ]
  },
  {
   "cell_type": "code",
   "execution_count": 6,
   "metadata": {},
   "outputs": [
    {
     "data": {
      "text/plain": [
       "(41.87620739353814, 156.03661126184818, -0.5868965642036583, 81.40587816786852)"
      ]
     },
     "execution_count": 6,
     "metadata": {},
     "output_type": "execute_result"
    },
    {
     "data": {
      "image/png": "[encoded data removed]",
      "text/plain": [
       "<Figure size 432x288 with 1 Axes>"
      ]
     },
     "metadata": {
      "needs_background": "light"
     },
     "output_type": "display_data"
    }
   ],
   "source": [
    "#scatter plot dei punti legati ai clienti\n",
    "plot.scatter(x_coord[1:], y_coord[1:], c='#1f77b4')\n",
    "for i in N:\n",
    "    plot.annotate('$d_%d=%d$' % (i, d[i]), (x_coord[i]+3, y_coord[i]))\n",
    "\n",
    "#scatter plot del deposito\n",
    "plot.scatter(x_coord[0], y_coord[0], c='red', marker='*')\n",
    "plot.annotate('deposito', (x_coord[0]+3, y_coord[0]))\n",
    "\n",
    "#per evitare che le etichette escano dal margine\n",
    "#plot.xlim(0, 120)\n",
    "#plot.ylim(0, 120)\n",
    "plot.axis('equal')"
   ]
  },
  {
   "cell_type": "markdown",
   "metadata": {},
   "source": [
    "Generiamo l'insieme A che conterrà gli archi che collegano i nodi. Il grafo che rappresenta i nodi e gli archi è un grafo completo senza archi rientranti.\n",
    "Il costo di un arco congiungente due punti sarà dato dalla distanza euclidea tra i punti"
   ]
  },
  {
   "cell_type": "code",
   "execution_count": 7,
   "metadata": {},
   "outputs": [],
   "source": [
    "#insieme di archi che connettono tutti i nodi (senza archi rientranti sullo stesso nodo)\n",
    "A = [(i, j) for i in V for j in V if i != j]\n",
    "\n",
    "#arco ha costo dato dalla distanza euclidea dei due vertici\n",
    "costo = {(i, j): np.sqrt((x_coord[j] - x_coord[i])**2 + (y_coord[j] - y_coord[i])**2) for i, j in A}"
   ]
  },
  {
   "cell_type": "markdown",
   "metadata": {},
   "source": [
    "### Impostazione del problema\n",
    "La funzione obiettivo avrà la seguente forma:\n",
    "\\begin{align}\n",
    "\\quad (1) \\min & \\sum_{i\\in V} \\sum_{j\\in V} c_{ij} x_{ij} \\\\\n",
    "\\end{align}\n",
    "Questa funzione vuole minimizzare il prodotto tra costo di un certo arco, dato in questo caso dalla distanza euclidea tra i due punti, e la variabile  $x_{ij}$ di che assumerà il valore 0 se l'arco non viene percorso, oppure 1 se viene percorso.\n",
    "\n",
    "Soggetta ai vincoli:\n",
    "\\begin{align}\n",
    "\\quad (2) & \\sum_{i\\in V} x_{ij} = 1  && j \\in N \\\\\n",
    "(3) & \\sum_{j\\in V } x_{ij} = 1 && i \\in N \\\\\n",
    "(4) & \\sum_{i\\in V } x_{i0} = K &&\\\\\n",
    "(5) & \\sum_{j\\in V } x_{0j} = K &&\\\\\n",
    "(6) & x_{ij} \\in \\{0,1 \\} \\forall i,j \\in V\\\\\n",
    "\\end{align}\n",
    "\n",
    "- I vincoli (2) e (3) vengono detti vincoli di grado entrante e di grado uscente ed impongono che esattamente un arco esca ed entri ogni vertice associato ad un cliente;\n",
    "- I vincoli (4) e (5) riguardano il grado in uscita ed in entrata del deposito ed impongono che escano ed entrino esattamente K mezzi dal nodo che rappresenta il deposito;\n",
    "- Il vincolo (6) impone che i valori degli archi siano uguali a 0 o ad 1.\n",
    "\n",
    "#### Miller, Tucker e Zemlin\n",
    "Un'alternativa ai cosiddetti $\\textit{capacity-cut constraints}$ (CCCs) è rappresentata dai vincoli proposti da Miller, Tucker e Zemlin. Questi vincoli avranno la forma:\n",
    "\n",
    "\\begin{align}\n",
    "\\quad\n",
    "(7) & u_i - u_j + Qx_{ij}\\leq Q - d_j && \\forall i,j \\in V \\setminus \\{0 \\}, i \\neq j\\\\\n",
    "(8) & d_i \\leq u_i \\leq Q && \\forall i \\in V \\setminus \\{0\\}\n",
    "\\end{align}\n",
    "\n",
    "- Il vincolo (7) introduce una nuova variabile chiamata $u_i$, che rappresenta il carico di un veicolo dopo aver visitato il cliente i-esimo. Per quanto riguarda questo vincolo si possono distinguere due casi:\n",
    "    - $x_{ij}$ = 0, cioè nessun veicolo si muove dal nodo i al nodo j utilizzando l'arco (i,j); in questo caso $u_i - u_j \\leq Q - d_j$ è sempre vero dato che, per vincolo (8), $u_i  \\leq Q $ e $u_j \\geq d_j$. Dunque se $x_{i,j} = 0$ il vincolo è ridondante.\n",
    "    - $x_{i,j} = 1$, cioè un veicolo si muove dal nodo i al nodo j utilizzando l'arco (i,j): in questo caso $u_i \\geq u_i + d_j $ \n",
    "- Il vincolo (8) impone che il carico di un veicolo deve essere almeno equivalente a $d_i $ senza superare la capacità del veicolo\n",
    "\n",
    "Questi vincoli hanno cardinalità polinomiale, al contrario dei CCCs che hanno una cardinalità esponenziale rispetto ad n."
   ]
  },
  {
   "cell_type": "code",
   "execution_count": 8,
   "metadata": {},
   "outputs": [],
   "source": [
    "import setup\n",
    "from docplex.mp.model import Model"
   ]
  },
  {
   "cell_type": "code",
   "execution_count": 9,
   "metadata": {},
   "outputs": [],
   "source": [
    "#!pip install docplex\n",
    "#from docplex.mp.model import Model"
   ]
  },
  {
   "cell_type": "code",
   "execution_count": 10,
   "metadata": {},
   "outputs": [],
   "source": [
    "mdl = Model('CVRP Random')"
   ]
  },
  {
   "cell_type": "code",
   "execution_count": 11,
   "metadata": {},
   "outputs": [],
   "source": [
    "x = mdl.binary_var_dict(A, name='x') #insieme delle variabili decisionali per gli archi\n",
    "u = mdl.continuous_var_dict(N, ub=Q, name='u') #domanda cumulativa, upper bound di Q ci assicura che non si vada oltre la capacità di ogni mezzo"
   ]
  },
  {
   "cell_type": "code",
   "execution_count": 12,
   "metadata": {},
   "outputs": [
    {
     "data": {
      "text/plain": [
       "[docplex.mp.LinearConstraint[](x_0_1+x_2_1+x_3_1+x_4_1+x_5_1,EQ,1),\n",
       " docplex.mp.LinearConstraint[](x_0_2+x_1_2+x_3_2+x_4_2+x_5_2,EQ,1),\n",
       " docplex.mp.LinearConstraint[](x_0_3+x_1_3+x_2_3+x_4_3+x_5_3,EQ,1),\n",
       " docplex.mp.LinearConstraint[](x_0_4+x_1_4+x_2_4+x_3_4+x_5_4,EQ,1),\n",
       " docplex.mp.LinearConstraint[](x_0_5+x_1_5+x_2_5+x_3_5+x_4_5,EQ,1)]"
      ]
     },
     "execution_count": 12,
     "metadata": {},
     "output_type": "execute_result"
    }
   ],
   "source": [
    "#(1)\n",
    "mdl.minimize(mdl.sum(costo[i,j]*x[i,j] for i in V for j in V if i != j))\n",
    "\n",
    "#Vincoli\n",
    "#(2) e (3) Il primo vincolo ci dice che esattamente un arco entra e esce da ogni vertice associato ad un cliente\n",
    "mdl.add_constraints(mdl.sum(x[i, j] for j in V if j != i) == 1 for i in N)\n",
    "mdl.add_constraints(mdl.sum(x[i, j] for i in V if i != j) == 1 for j in N)"
   ]
  },
  {
   "cell_type": "code",
   "execution_count": 13,
   "metadata": {},
   "outputs": [
    {
     "data": {
      "text/plain": [
       "docplex.mp.LinearConstraint[](x_1_0+x_2_0+x_3_0+x_4_0+x_5_0,EQ,2)"
      ]
     },
     "execution_count": 13,
     "metadata": {},
     "output_type": "execute_result"
    }
   ],
   "source": [
    "#(4) e (5)\n",
    "#Le condizioni i e k != 0 sono necessarie perché non esistono archi rientranti\n",
    "mdl.add_constraint(mdl.sum(x[0,j] for j in N) == K)\n",
    "mdl.add_constraint(mdl.sum(x[i,0] for i in N) == K)\n",
    "\n",
    "#(6) non è modellato perché già inserito nella definizione della variabile x come variabile binaria"
   ]
  },
  {
   "cell_type": "code",
   "execution_count": 14,
   "metadata": {},
   "outputs": [
    {
     "data": {
      "text/plain": [
       "[docplex.mp.LinearConstraint[](20x_1_2+u_1-u_2,LE,19),\n",
       " docplex.mp.LinearConstraint[](20x_1_3+u_1-u_3,LE,19),\n",
       " docplex.mp.LinearConstraint[](20x_1_4+u_1-u_4,LE,19),\n",
       " docplex.mp.LinearConstraint[](20x_1_5+u_1-u_5,LE,19),\n",
       " docplex.mp.LinearConstraint[](20x_2_1-u_1+u_2,LE,19),\n",
       " docplex.mp.LinearConstraint[](20x_2_3+u_2-u_3,LE,19),\n",
       " docplex.mp.LinearConstraint[](20x_2_4+u_2-u_4,LE,19),\n",
       " docplex.mp.LinearConstraint[](20x_2_5+u_2-u_5,LE,19),\n",
       " docplex.mp.LinearConstraint[](20x_3_1-u_1+u_3,LE,19),\n",
       " docplex.mp.LinearConstraint[](20x_3_2-u_2+u_3,LE,19),\n",
       " docplex.mp.LinearConstraint[](20x_3_4+u_3-u_4,LE,19),\n",
       " docplex.mp.LinearConstraint[](20x_3_5+u_3-u_5,LE,19),\n",
       " docplex.mp.LinearConstraint[](20x_4_1-u_1+u_4,LE,19),\n",
       " docplex.mp.LinearConstraint[](20x_4_2-u_2+u_4,LE,19),\n",
       " docplex.mp.LinearConstraint[](20x_4_3-u_3+u_4,LE,19),\n",
       " docplex.mp.LinearConstraint[](20x_4_5+u_4-u_5,LE,19),\n",
       " docplex.mp.LinearConstraint[](20x_5_1-u_1+u_5,LE,19),\n",
       " docplex.mp.LinearConstraint[](20x_5_2-u_2+u_5,LE,19),\n",
       " docplex.mp.LinearConstraint[](20x_5_3-u_3+u_5,LE,19),\n",
       " docplex.mp.LinearConstraint[](20x_5_4-u_4+u_5,LE,19)]"
      ]
     },
     "execution_count": 14,
     "metadata": {},
     "output_type": "execute_result"
    }
   ],
   "source": [
    "#(7)\n",
    "mdl.add_constraints((u[i] - u[j] + (Q*x[i,j]) <= Q - d[j]) for i in N for j in N if i!=j)"
   ]
  },
  {
   "cell_type": "code",
   "execution_count": 15,
   "metadata": {},
   "outputs": [
    {
     "data": {
      "text/plain": [
       "[docplex.mp.LinearConstraint[](u_1,GE,1),\n",
       " docplex.mp.LinearConstraint[](u_2,GE,1),\n",
       " docplex.mp.LinearConstraint[](u_3,GE,1),\n",
       " docplex.mp.LinearConstraint[](u_4,GE,1),\n",
       " docplex.mp.LinearConstraint[](u_5,GE,1)]"
      ]
     },
     "execution_count": 15,
     "metadata": {},
     "output_type": "execute_result"
    }
   ],
   "source": [
    "#(8) La seconda parte dell'uguaglianza è già inclusa nell'upper bound della variabile u\n",
    "mdl.add_constraints(u[i] >= d[i] for i in N)"
   ]
  },
  {
   "cell_type": "code",
   "execution_count": 16,
   "metadata": {},
   "outputs": [],
   "source": [
    "#Impostazione di un limite di tempo di un'ora\n",
    "mdl.parameters.timelimit = (60*60)"
   ]
  },
  {
   "cell_type": "code",
   "execution_count": 17,
   "metadata": {
    "scrolled": true
   },
   "outputs": [
    {
     "name": "stdout",
     "output_type": "stream",
     "text": [
      "Version identifier: 12.10.0.0 | 2019-11-26 | 843d4de2ae\n",
      "CPXPARAM_Read_DataCheck                          1\n",
      "CPXPARAM_RandomSeed                              201903125\n",
      "CPXPARAM_TimeLimit                               3600\n",
      "Tried aggregator 1 time.\n",
      "MIP Presolve eliminated 5 rows and 0 columns.\n",
      "Reduced MIP has 32 rows, 35 columns, and 120 nonzeros.\n",
      "Reduced MIP has 30 binaries, 0 generals, 0 SOSs, and 0 indicators.\n",
      "Presolve time = 0.00 sec. (0.06 ticks)\n",
      "Found incumbent of value 401.481745 after 0.00 sec. (0.17 ticks)\n",
      "Probing time = 0.00 sec. (0.03 ticks)\n",
      "Tried aggregator 1 time.\n",
      "Detecting symmetries...\n",
      "Reduced MIP has 32 rows, 35 columns, and 120 nonzeros.\n",
      "Reduced MIP has 30 binaries, 0 generals, 0 SOSs, and 0 indicators.\n",
      "Presolve time = 0.00 sec. (0.08 ticks)\n",
      "Probing time = 0.00 sec. (0.04 ticks)\n",
      "Clique table members: 20.\n",
      "MIP emphasis: balance optimality and feasibility.\n",
      "MIP search method: dynamic search.\n",
      "Parallel mode: deterministic, using up to 8 threads.\n",
      "Root relaxation solution time = 0.00 sec. (0.05 ticks)\n",
      "\n",
      "        Nodes                                         Cuts/\n",
      "   Node  Left     Objective  IInf  Best Integer    Best Bound    ItCnt     Gap\n",
      "\n",
      "*     0+    0                          401.4817        0.0000           100.00%\n",
      "      0     0      270.5560    12      401.4817      270.5560       12   32.61%\n",
      "      0     0      298.4141    12      401.4817       Cuts: 3       16   25.67%\n",
      "      0     0      328.1765    12      401.4817       Cuts: 4       18   18.26%\n",
      "*     0+    0                          328.1765      328.1765             0.00%\n",
      "      0     0        cutoff            328.1765      328.1765       18    0.00%\n",
      "Elapsed time = 0.03 sec. (0.89 ticks, tree = 0.01 MB, solutions = 2)\n",
      "\n",
      "Clique cuts applied:  2\n",
      "Implied bound cuts applied:  1\n",
      "Mixed integer rounding cuts applied:  1\n",
      "\n",
      "Root node processing (before b&c):\n",
      "  Real time             =    0.03 sec. (0.89 ticks)\n",
      "Parallel b&c, 8 threads:\n",
      "  Real time             =    0.00 sec. (0.00 ticks)\n",
      "  Sync time (average)   =    0.00 sec.\n",
      "  Wait time (average)   =    0.00 sec.\n",
      "                          ------------\n",
      "Total (root+branch&cut) =    0.03 sec. (0.89 ticks)\n"
     ]
    }
   ],
   "source": [
    "s = mdl.solve(log_output=True)"
   ]
  },
  {
   "cell_type": "code",
   "execution_count": 18,
   "metadata": {},
   "outputs": [
    {
     "name": "stdout",
     "output_type": "stream",
     "text": [
      "solution for: CVRP Random\n",
      "objective: 328.177\n",
      "x_0_2=1\n",
      "x_0_4=1\n",
      "x_1_0=1\n",
      "x_2_0=1\n",
      "x_3_1=1\n",
      "x_4_5=1\n",
      "x_5_3=1\n",
      "u_1=4.000\n",
      "u_2=1.000\n",
      "u_3=3.000\n",
      "u_4=1.000\n",
      "u_5=2.000\n",
      "\n"
     ]
    }
   ],
   "source": [
    "print(s)"
   ]
  },
  {
   "cell_type": "code",
   "execution_count": 19,
   "metadata": {},
   "outputs": [
    {
     "name": "stdout",
     "output_type": "stream",
     "text": [
      "JobSolveStatus.OPTIMAL_SOLUTION\n"
     ]
    }
   ],
   "source": [
    "print(s.solve_status)"
   ]
  },
  {
   "cell_type": "code",
   "execution_count": 20,
   "metadata": {},
   "outputs": [
    {
     "name": "stdout",
     "output_type": "stream",
     "text": [
      "status  = integer optimal solution\n",
      "time    = 0.047 s.\n",
      "problem = MILP\n",
      "gap     = 0%\n",
      "\n"
     ]
    }
   ],
   "source": [
    "print(s.solve_details)"
   ]
  },
  {
   "cell_type": "code",
   "execution_count": 21,
   "metadata": {},
   "outputs": [],
   "source": [
    "collegamenti = [a for a in A if x[a].solution_value == 1]"
   ]
  },
  {
   "cell_type": "code",
   "execution_count": 22,
   "metadata": {
    "scrolled": false
   },
   "outputs": [
    {
     "data": {
      "text/plain": [
       "Text(115.2549597709442, 3.140047741799623, 'deposito')"
      ]
     },
     "execution_count": 22,
     "metadata": {},
     "output_type": "execute_result"
    },
    {
     "data": {
      "image/png": "[encoded data removed]",
      "text/plain": [
       "<Figure size 432x288 with 1 Axes>"
      ]
     },
     "metadata": {
      "needs_background": "light"
     },
     "output_type": "display_data"
    }
   ],
   "source": [
    "plot.scatter(x_coord[1:], y_coord[1:], c='#1f77b4')\n",
    "for i in N:\n",
    "    plot.annotate('$d_%d=%d$' % (i, d[i]), (x_coord[i]+3, y_coord[i]))\n",
    "\n",
    "for i, j in collegamenti:\n",
    "    plot.plot([x_coord[i], x_coord[j]], [y_coord[i], y_coord[j]], c='r')\n",
    "    \n",
    "#scatter plot del deposito\n",
    "plot.scatter(x_coord[0], y_coord[0], c='red', marker='*')\n",
    "plot.annotate('deposito', (x_coord[0]+3, y_coord[0]))"
   ]
  },
  {
   "cell_type": "markdown",
   "metadata": {},
   "source": [
    "### Testing con datasets reali\n",
    "Per i test sono stati utilizzate le istanze di Christofides, Mingozzi e Toth, 14 dataset di dimensioni comprese tra i 50 ed i 199 nodi.\n",
    "I datasets contengono:\n",
    "- Numero di clienti, capacità dei veicoli;\n",
    "- Per quanto riguarda il deposito, coordinate x ed y;\n",
    "- Per ogni cliente, coordinate x ed y e domanda.\n",
    "\n",
    "<table class=\"tg\">\n",
    "    <caption>Composizione dei datasets</caption>\n",
    "<thead>\n",
    "  <tr>\n",
    "    <th class=\"tg-0pky\">Dataset</th>\n",
    "    <th class=\"tg-0pky\">Numero clienti</th>\n",
    "    <th class=\"tg-0pky\">Posizionamento dei clienti</th>\n",
    "    <th class=\"tg-0lax\">Capacità veicolo</th>\n",
    "  </tr>\n",
    "</thead>\n",
    "<tbody>\n",
    "  <tr>\n",
    "    <td class=\"tg-0pky\">1</td>\n",
    "    <td class=\"tg-0pky\">50</td>\n",
    "    <td class=\"tg-0pky\">Casuale</td>\n",
    "    <td class=\"tg-0lax\">160</td>\n",
    "  </tr>\n",
    "  <tr>\n",
    "    <td class=\"tg-0pky\">2</td>\n",
    "    <td class=\"tg-0pky\">75</td>\n",
    "    <td class=\"tg-0pky\">Casuale</td>\n",
    "    <td class=\"tg-0lax\">140</td>\n",
    "  </tr>\n",
    "  <tr>\n",
    "    <td class=\"tg-0pky\">3</td>\n",
    "    <td class=\"tg-0pky\">100</td>\n",
    "    <td class=\"tg-0pky\">Casuale</td>\n",
    "    <td class=\"tg-0lax\">200</td>\n",
    "  </tr>\n",
    "  <tr>\n",
    "    <td class=\"tg-0pky\">4</td>\n",
    "    <td class=\"tg-0pky\">150</td>\n",
    "    <td class=\"tg-0pky\">Casuale</td>\n",
    "    <td class=\"tg-0lax\">200</td>\n",
    "  </tr>\n",
    "  <tr>\n",
    "    <td class=\"tg-0pky\">5</td>\n",
    "    <td class=\"tg-0pky\">199</td>\n",
    "    <td class=\"tg-0pky\">Casuale</td>\n",
    "    <td class=\"tg-0lax\">200</td>\n",
    "  </tr>\n",
    "  <tr>\n",
    "    <td class=\"tg-0pky\">6</td>\n",
    "    <td class=\"tg-0pky\">50</td>\n",
    "    <td class=\"tg-0pky\">Casuale</td>\n",
    "    <td class=\"tg-0lax\">160</td>\n",
    "  </tr>\n",
    "  <tr>\n",
    "    <td class=\"tg-0pky\">7</td>\n",
    "    <td class=\"tg-0pky\">75</td>\n",
    "    <td class=\"tg-0pky\">Casuale</td>\n",
    "    <td class=\"tg-0lax\">140</td>\n",
    "  </tr>\n",
    "  <tr>\n",
    "    <td class=\"tg-0pky\">8</td>\n",
    "    <td class=\"tg-0pky\">100</td>\n",
    "    <td class=\"tg-0pky\">Casuale</td>\n",
    "    <td class=\"tg-0lax\">200</td>\n",
    "  </tr>\n",
    "  <tr>\n",
    "    <td class=\"tg-0pky\">9</td>\n",
    "    <td class=\"tg-0pky\">150</td>\n",
    "    <td class=\"tg-0pky\">Casuale</td>\n",
    "    <td class=\"tg-0lax\">200</td>\n",
    "  </tr>\n",
    "  <tr>\n",
    "    <td class=\"tg-0pky\">10</td>\n",
    "    <td class=\"tg-0pky\">199</td>\n",
    "    <td class=\"tg-0pky\">Casuale</td>\n",
    "    <td class=\"tg-0lax\">200</td>\n",
    "  </tr>\n",
    "  <tr>\n",
    "    <td class=\"tg-0pky\">11</td>\n",
    "    <td class=\"tg-0pky\">120</td>\n",
    "    <td class=\"tg-0pky\">Clusterizzato</td>\n",
    "    <td class=\"tg-0lax\">200</td>\n",
    "  </tr>\n",
    "  <tr>\n",
    "    <td class=\"tg-0pky\">12</td>\n",
    "    <td class=\"tg-0pky\">100</td>\n",
    "    <td class=\"tg-0pky\">Clusterizzato</td>\n",
    "    <td class=\"tg-0lax\">200</td>\n",
    "  </tr>\n",
    "  <tr>\n",
    "    <td class=\"tg-0pky\">13</td>\n",
    "    <td class=\"tg-0pky\">120</td>\n",
    "    <td class=\"tg-0pky\">Clusterizzato</td>\n",
    "    <td class=\"tg-0lax\">200</td>\n",
    "  </tr>\n",
    "  <tr>\n",
    "    <td class=\"tg-0pky\">14</td>\n",
    "    <td class=\"tg-0pky\">100</td>\n",
    "    <td class=\"tg-0pky\">Clusterizzato</td>\n",
    "    <td class=\"tg-0lax\">200</td>\n",
    "  </tr>\n",
    "</tbody>\n",
    "</table>\n",
    "\n",
    "Tra i dati forniti non era presente il numero di veicoli utilizzati. Si è quindi deciso di fare dei test su un dataset di dimensioni ridotte (ottenuto tenendo solo le prime 20 righe del dataset 1) per decidere quale valore usare come parametro K. I test utilizzano un numero variabile dei veicoli, utilizzando come limite inferiore il quantitativo minimo di veicoli necessari a soddisfare la domanda dei clienti (dato dal rapporto tra la somma delle domande dei singoli clienti e la capacità di ogni veicolo) e come limite superiore il numero dei clienti (per evitare che non venisse soddisfatta la combinazione dei vincoli 2, 3, 4 e 5).\n",
    "\n",
    "Dopo i test effettuati si è visto che, al crescere di K, si vedeva una crescita anche della funzione obiettivo. Si è quindi deciso di utilizzare come K il minimo numero di veicoli necessari per soddisfare la domanda dei clienti.\n",
    "\n",
    "<table class=\"tg\">\n",
    "      <caption>Risultati dei test valore K</caption>\n",
    "<thead>\n",
    "  <tr>\n",
    "    <th class=\"tg-0pky\">K</th>\n",
    "    <th class=\"tg-0pky\">Funzione obiettivo</th>\n",
    "    <th class=\"tg-0pky\"></th>\n",
    "    <th class=\"tg-0pky\"></th>\n",
    "    <th class=\"tg-0pky\"></th>\n",
    "  </tr>\n",
    "</thead>\n",
    "<tbody>\n",
    "  <tr>\n",
    "    <td class=\"tg-0pky\">Kmin</td>\n",
    "    <td class=\"tg-0pky\">258.855</td>\n",
    "    <td class=\"tg-0pky\"></td>\n",
    "    <td class=\"tg-0pky\"></td>\n",
    "    <td class=\"tg-0pky\"></td>\n",
    "  </tr>\n",
    "  <tr>\n",
    "    <td class=\"tg-0pky\">Kmin+2</td>\n",
    "    <td class=\"tg-0pky\">283.766</td>\n",
    "    <td class=\"tg-0pky\"></td>\n",
    "    <td class=\"tg-0pky\"></td>\n",
    "    <td class=\"tg-0pky\"></td>\n",
    "  </tr>\n",
    "  <tr>\n",
    "    <td class=\"tg-0pky\">Kmin+4</td>\n",
    "    <td class=\"tg-0pky\">320.901</td>\n",
    "    <td class=\"tg-0pky\"></td>\n",
    "    <td class=\"tg-0pky\"></td>\n",
    "    <td class=\"tg-0pky\"></td>\n",
    "  </tr>\n",
    "  <tr>\n",
    "    <td class=\"tg-0lax\">Kmin+6</td>\n",
    "    <td class=\"tg-0lax\">366.636</td>\n",
    "    <td class=\"tg-0lax\"></td>\n",
    "    <td class=\"tg-0lax\"></td>\n",
    "    <td class=\"tg-0lax\"></td>\n",
    "  </tr>\n",
    "</tbody>\n",
    "</table>\n",
    "\n",
    "Una volta fissato il numero di K, il modello è stato applicato ad ognuno dei 14 dataset con un tempo di esecuzione di un'ora. I risultati di questi test sono riassunti nella tabella successiva:\n",
    "\n",
    "<table class=\"tg\">\n",
    "      <caption>Risultato dei test sulle istanze di Christofides, Mingozzi e Toth</caption>\n",
    "<thead>\n",
    "  <tr>\n",
    "    <th class=\"tg-0pky\">Dataset</th>\n",
    "    <th class=\"tg-0pky\">Numero clienti</th>\n",
    "    <th class=\"tg-0pky\">Tempo (s)</th>\n",
    "    <th class=\"tg-0pky\">Funzione obiettivo</th>\n",
    "    <th class=\"tg-0pky\">Gap</th>\n",
    "    <th class=\"tg-0pky\"></th>\n",
    "  </tr>\n",
    "</thead>\n",
    "<tbody>\n",
    "  <tr>\n",
    "    <td class=\"tg-0pky\">1</td>\n",
    "    <td class=\"tg-0pky\">50</td>\n",
    "    <td class=\"tg-0pky\">3600</td>\n",
    "    <td class=\"tg-0pky\">551.44</td>\n",
    "    <td class=\"tg-0pky\">14%</td>\n",
    "    <td class=\"tg-0pky\"></td>\n",
    "  </tr>\n",
    "  <tr>\n",
    "    <td class=\"tg-0pky\">2</td>\n",
    "    <td class=\"tg-0pky\">75</td>\n",
    "    <td class=\"tg-0pky\">3600</td>\n",
    "    <td class=\"tg-0pky\">1070</td>\n",
    "    <td class=\"tg-0pky\">39.17%</td>\n",
    "    <td class=\"tg-0pky\"></td>\n",
    "  </tr>\n",
    "  <tr>\n",
    "    <td class=\"tg-0pky\">3</td>\n",
    "    <td class=\"tg-0pky\">100</td>\n",
    "    <td class=\"tg-0pky\">3600</td>\n",
    "    <td class=\"tg-0pky\">954.365</td>\n",
    "    <td class=\"tg-0pky\">24.52%</td>\n",
    "    <td class=\"tg-0pky\"></td>\n",
    "  </tr>\n",
    "  <tr>\n",
    "    <td class=\"tg-0pky\">4</td>\n",
    "    <td class=\"tg-0pky\">150</td>\n",
    "    <td class=\"tg-0pky\">3600</td>\n",
    "    <td class=\"tg-0pky\">2031.18</td>\n",
    "    <td class=\"tg-0pky\">59%</td>\n",
    "    <td class=\"tg-0pky\"></td>\n",
    "  </tr>\n",
    "  <tr>\n",
    "    <td class=\"tg-0pky\">5</td>\n",
    "    <td class=\"tg-0pky\">199</td>\n",
    "    <td class=\"tg-0pky\">3600</td>\n",
    "    <td class=\"tg-0pky\" colspan=\"2\">nessuna soluzione trovata</td>\n",
    "    <td class=\"tg-0pky\"></td>\n",
    "  </tr>\n",
    "  <tr>\n",
    "    <td class=\"tg-0pky\">6</td>\n",
    "    <td class=\"tg-0pky\">50</td>\n",
    "    <td class=\"tg-0pky\">3600</td>\n",
    "    <td class=\"tg-0pky\">564.212<br></td>\n",
    "    <td class=\"tg-0pky\">16.69%</td>\n",
    "    <td class=\"tg-0pky\"></td>\n",
    "  </tr>\n",
    "  <tr>\n",
    "    <td class=\"tg-0pky\">7</td>\n",
    "    <td class=\"tg-0pky\">75</td>\n",
    "    <td class=\"tg-0pky\">3600</td>\n",
    "    <td class=\"tg-0pky\">1075.75</td>\n",
    "    <td class=\"tg-0pky\">39.62%</td>\n",
    "    <td class=\"tg-0pky\"></td>\n",
    "  </tr>\n",
    "  <tr>\n",
    "    <td class=\"tg-0pky\">8</td>\n",
    "    <td class=\"tg-0pky\">100</td>\n",
    "    <td class=\"tg-0pky\">3600</td>\n",
    "    <td class=\"tg-0pky\">964.062</td>\n",
    "    <td class=\"tg-0pky\">25.30%</td>\n",
    "    <td class=\"tg-0pky\"></td>\n",
    "  </tr>\n",
    "  <tr>\n",
    "    <td class=\"tg-0pky\">9</td>\n",
    "    <td class=\"tg-0pky\">150</td>\n",
    "    <td class=\"tg-0pky\">3600</td>\n",
    "    <td class=\"tg-0pky\">2311.19</td>\n",
    "    <td class=\"tg-0pky\">64.06%</td>\n",
    "    <td class=\"tg-0pky\"></td>\n",
    "  </tr>\n",
    "  <tr>\n",
    "    <td class=\"tg-0pky\">10</td>\n",
    "    <td class=\"tg-0pky\">199</td>\n",
    "    <td class=\"tg-0pky\">3600</td>\n",
    "    <td class=\"tg-0pky\" colspan=\"2\">nessuna soluzione trovata</td>\n",
    "    <td class=\"tg-0pky\"></td>\n",
    "  </tr>\n",
    "  <tr>\n",
    "    <td class=\"tg-0pky\">11</td>\n",
    "    <td class=\"tg-0pky\">120</td>\n",
    "    <td class=\"tg-0pky\">3600</td>\n",
    "    <td class=\"tg-0pky\">1354.88</td>\n",
    "    <td class=\"tg-0pky\">64.69%</td>\n",
    "    <td class=\"tg-0pky\"></td>\n",
    "  </tr>\n",
    "  <tr>\n",
    "    <td class=\"tg-0pky\">12</td>\n",
    "    <td class=\"tg-0pky\">100</td>\n",
    "    <td class=\"tg-0pky\">3600</td>\n",
    "    <td class=\"tg-0pky\">921.342</td>\n",
    "    <td class=\"tg-0pky\">35.48%</td>\n",
    "    <td class=\"tg-0pky\"></td>\n",
    "  </tr>\n",
    "  <tr>\n",
    "    <td class=\"tg-0pky\">13</td>\n",
    "    <td class=\"tg-0pky\">120</td>\n",
    "    <td class=\"tg-0pky\">3600</td>\n",
    "    <td class=\"tg-0pky\">1344.13</td>\n",
    "    <td class=\"tg-0pky\">64.43%</td>\n",
    "    <td class=\"tg-0pky\"></td>\n",
    "  </tr>\n",
    "  <tr>\n",
    "    <td class=\"tg-0pky\">14</td>\n",
    "    <td class=\"tg-0pky\">100</td>\n",
    "    <td class=\"tg-0pky\">3600</td>\n",
    "    <td class=\"tg-0pky\">945.171</td>\n",
    "    <td class=\"tg-0pky\">37.44%</td>\n",
    "    <td class=\"tg-0pky\"></td>\n",
    "  </tr>\n",
    "</tbody>\n",
    "</table>\n",
    "\n",
    "Come si può vedere dalla tabella, nonostante la complessità polinomiale dei vincoli di Miller Tucker e Zemlin, in nessuno dei casi si è riusciti ad arrivare ad una soluzione ottimale nel limite imposto di un'ora, con un gap che va dal 16% circa nel dataset più piccolo, fino ad arrivare a non trovare nessuna soluzione per i dataset numero 5 e 10 che sono composti da 199 clienti. Sarebbe dunqune interessante testare se aumentando i limiti di tempo si potrebbe arrivare ad una soluzione ottimale o, nel caso dei dataset più grandi, ad una soluzione. "
   ]
  },
  {
   "cell_type": "code",
   "execution_count": 101,
   "metadata": {},
   "outputs": [],
   "source": [
    "dataset = 'vrpnc' + '_test' + '.txt'"
   ]
  },
  {
   "cell_type": "code",
   "execution_count": 102,
   "metadata": {},
   "outputs": [],
   "source": [
    "x_coord = []\n",
    "y_coord = []\n",
    "d = {}\n",
    "with open(dataset) as f:\n",
    "    lines = f.readlines()\n",
    "    i = 0\n",
    "    #print(len(lines))\n",
    "    for line in lines:\n",
    "        l = line.split()\n",
    "        if(i == 0):\n",
    "            n = int(l[0]) #numero clienti\n",
    "            Q = int(l[1]) #capacità veicoli\n",
    "        else:\n",
    "            x_coord.append(int(l[0]))\n",
    "            y_coord.append(int(l[1]))\n",
    "            if(len(l) > 2):\n",
    "                d[i-1] = int(l[2])#Domanda\n",
    "        i = i+1\n",
    "    n = len(lines)-2 #Ogni riga del file di testo, ad esclusione delle 2 iniziali, contiene un cliente\n",
    "    N = [i for i in range(1, n+1)]\n",
    "    V = [0] + N #Insieme di tutti i vertici, compreso il deposito\n",
    "\n",
    "f.close()\n",
    "\n",
    "D = sum(d.values()) #domanda complessiva\n",
    "rapp = D/Q\n",
    "if rapp.is_integer():\n",
    "    Kmin = int(D/Q)\n",
    "else:\n",
    "    Kmin = int(D/Q) + 1\n",
    "Kmax = n\n",
    "\n",
    "#insieme di archi che connettono tutti i nodi (senza archi rientranti sullo stesso nodo)\n",
    "A = [(i, j) for i in V for j in V if i != j]\n",
    "\n",
    "#arco ha costo dato dalla distanza euclidea dei due vertici\n",
    "costo = {(i, j): np.sqrt((x_coord[j] - x_coord[i])**2 + (y_coord[j] - y_coord[i])**2) for i, j in A}"
   ]
  }
 ],
 "metadata": {
  "kernelspec": {
   "display_name": "Python 3",
   "language": "python",
   "name": "python3"
  },
  "language_info": {
   "codemirror_mode": {
    "name": "ipython",
    "version": 3
   },
   "file_extension": ".py",
   "mimetype": "text/x-python",
   "name": "python",
   "nbconvert_exporter": "python",
   "pygments_lexer": "ipython3",
   "version": "3.7.8"
  }
 },
 "nbformat": 4,
 "nbformat_minor": 4
}
